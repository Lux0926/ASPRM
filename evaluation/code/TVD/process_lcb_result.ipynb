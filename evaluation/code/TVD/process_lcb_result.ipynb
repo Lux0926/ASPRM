{
 "cells": [
  {
   "cell_type": "code",
   "execution_count": null,
   "metadata": {
    "vscode": {
     "languageId": "plaintext"
    }
   },
   "outputs": [],
   "source": [
    "import json\n",
    "\n",
    "file_path = 'result_asprm_datads_modelds_livecodebench_4_ds_data.jsonl'\n",
    "output_path = 'result_asprm_datads_modelds_livecodebench_4_ds_data_preeval.jsonl'\n",
    "\n",
    "with open(file_path, 'r', encoding='utf-8') as infile, open(output_path, 'w', encoding='utf-8') as outfile:\n",
    "    for line in infile:\n",
    "\n",
    "        data = json.loads(line)\n",
    "        \n",
    "\n",
    "        question_id = data.get('question_id')\n",
    "        solution_min = data.get('solution_min')\n",
    "\n",
    "        if solution_min is not None and isinstance(solution_min, str):\n",
    "            solution_min = [solution_min]\n",
    "        \n",
    "\n",
    "        modified_data = {\n",
    "            'question_id': question_id,\n",
    "            'code_list': solution_min\n",
    "        }\n",
    "        \n",
    "        outfile.write(json.dumps(modified_data, ensure_ascii=False) + '\\n')\n"
   ]
  }
 ],
 "metadata": {
  "language_info": {
   "name": "python"
  }
 },
 "nbformat": 4,
 "nbformat_minor": 2
}
